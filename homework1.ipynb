{
  "nbformat": 4,
  "nbformat_minor": 0,
  "metadata": {
    "colab": {
      "provenance": [],
      "authorship_tag": "ABX9TyOhL+8VFyt4O4vpOXH6O9wh",
      "include_colab_link": true
    },
    "kernelspec": {
      "name": "python3",
      "display_name": "Python 3"
    },
    "language_info": {
      "name": "python"
    }
  },
  "cells": [
    {
      "cell_type": "markdown",
      "metadata": {
        "id": "view-in-github",
        "colab_type": "text"
      },
      "source": [
        "<a href=\"https://colab.research.google.com/github/kingajutrzenka/Programowanie-i-algorytmika/blob/main/homework1.ipynb\" target=\"_parent\"><img src=\"https://colab.research.google.com/assets/colab-badge.svg\" alt=\"Open In Colab\"/></a>"
      ]
    },
    {
      "cell_type": "markdown",
      "source": [
        "*Praca domowa 1*"
      ],
      "metadata": {
        "id": "cFwO7ek3zliH"
      }
    },
    {
      "cell_type": "markdown",
      "source": [
        "**zadanie 4**"
      ],
      "metadata": {
        "id": "81PvvH64_V0M"
      }
    },
    {
      "cell_type": "code",
      "execution_count": null,
      "metadata": {
        "id": "U39ZXPOgxUBR"
      },
      "outputs": [],
      "source": [
        "int(-3.75)"
      ]
    },
    {
      "cell_type": "markdown",
      "source": [
        "moja 1 wersja :):"
      ],
      "metadata": {
        "id": "KWKoFQfH89TT"
      }
    },
    {
      "cell_type": "code",
      "source": [
        "a = float(input(\"Wpisz liczbę rzeczywistą:\"))\n",
        "if a>=0 or a == int(a):\n",
        "    a = int(a)\n",
        "else:\n",
        "    a = (int(a) - 1)\n",
        "print(a)"
      ],
      "metadata": {
        "id": "n2FB2xYK02-E"
      },
      "execution_count": null,
      "outputs": []
    },
    {
      "cell_type": "markdown",
      "source": [
        "**zadanie 5**"
      ],
      "metadata": {
        "id": "8PTOZmCx_0qJ"
      }
    },
    {
      "cell_type": "code",
      "source": [
        "y = float(input(\"Wpisz liczbę rzeczywistą:\"))\n",
        "if y == int(y):\n",
        "    y = int(y)\n",
        "else:\n",
        "    y = (int(y) + 1)\n",
        "print(y)"
      ],
      "metadata": {
        "id": "Srtk0wWn_Z-z"
      },
      "execution_count": null,
      "outputs": []
    },
    {
      "cell_type": "markdown",
      "source": [
        "**zadanie 6**"
      ],
      "metadata": {
        "id": "7OpcdJj1FX8u"
      }
    },
    {
      "cell_type": "code",
      "source": [
        "a = float(input(\"podaj a: \"))\n",
        "b = float(input(\"podaj b: \"))\n",
        "c = float(input(\"podaj c: \"))\n",
        "d = b**2-4*a*c\n",
        "if d>0:\n",
        "  e=2\n",
        "else:\n",
        "  if d==0:\n",
        "    e=1\n",
        "  else:\n",
        "    e=0\n",
        "print(e)"
      ],
      "metadata": {
        "id": "MwXj3z-VFacb"
      },
      "execution_count": null,
      "outputs": []
    },
    {
      "cell_type": "markdown",
      "source": [
        "**SPYTAJ PANI CZY NIŻEJ PRZEJDZIE**"
      ],
      "metadata": {
        "id": "CmYMyU3zIgkj"
      }
    },
    {
      "cell_type": "code",
      "source": [
        "\"\"\"a = float(input(\"podaj a: \"))\n",
        "b = float(input(\"podaj b: \"))\n",
        "c = float(input(\"podaj c: \"))\n",
        "d = b**2-4*a*c\n",
        "if d > 0:\n",
        "    e = 2\n",
        "elif d == 0:\n",
        "    e = 1\n",
        "else:\n",
        "    e = 0\n",
        "print(e)\"\"\""
      ],
      "metadata": {
        "id": "pHPIphF9IWRT"
      },
      "execution_count": null,
      "outputs": []
    },
    {
      "cell_type": "markdown",
      "source": [
        "**zadanie 7**"
      ],
      "metadata": {
        "id": "w0HwbDEuIm4c"
      }
    },
    {
      "cell_type": "code",
      "source": [
        "#NWD:\n",
        "m = int(input(\"Podaj pierwszą liczbę naturalną: \"))\n",
        "n = int(input(\"Podaj drugą liczbę naturalną: \"))\n",
        "\n",
        "while m != n: # bo dopóki nie będzie tai\n",
        "    if m > n:\n",
        "        m = m - n\n",
        "    else:\n",
        "        n = n - m\n",
        "\n",
        "print(f\"NWD = {n}\")\n"
      ],
      "metadata": {
        "id": "dpCsUgvNIgzY"
      },
      "execution_count": null,
      "outputs": []
    },
    {
      "cell_type": "markdown",
      "source": [
        "Gotowe:"
      ],
      "metadata": {
        "id": "s0MRqIMETt42"
      }
    },
    {
      "cell_type": "code",
      "source": [
        "m = int(input(\"Podaj pierwszą liczbę naturalną: \"))\n",
        "n = int(input(\"Podaj drugą liczbę naturalną: \"))\n",
        "m0 = m\n",
        "n0 = n\n",
        "while m != n:\n",
        "    if m > n:\n",
        "        m = m - n\n",
        "    else:\n",
        "        n = n - m\n",
        "l = int((m0 * n0)/n)\n",
        "print(f\"NWD = {n}\")\n",
        "print(f\"NWW = {l}\")"
      ],
      "metadata": {
        "id": "HdwPCju1Tmhf",
        "colab": {
          "base_uri": "https://localhost:8080/"
        },
        "outputId": "96edaab2-c27a-4bb5-8ee9-b72dc2dfe434"
      },
      "execution_count": 29,
      "outputs": [
        {
          "output_type": "stream",
          "name": "stdout",
          "text": [
            "Podaj pierwszą liczbę naturalną: 8\n",
            "Podaj drugą liczbę naturalną: 2\n",
            "NWD = 2\n",
            "NWW = 8\n"
          ]
        }
      ]
    },
    {
      "cell_type": "markdown",
      "source": [
        "**zadanie 8**"
      ],
      "metadata": {
        "id": "X_DAIGUugQv8"
      }
    },
    {
      "cell_type": "code",
      "source": [
        "n = int(input(\"Wpisz liczbę naturalną: \"))\n",
        "i = 1\n",
        "while n >= i:\n",
        "    r = n\n",
        "    while r >= i:\n",
        "        r = r - i\n",
        "    if r == 0:\n",
        "        print(i)\n",
        "    i = i + 1"
      ],
      "metadata": {
        "id": "03k27IjCgVMs",
        "colab": {
          "base_uri": "https://localhost:8080/"
        },
        "outputId": "7c239f96-6770-4a43-af76-02df5c13919b"
      },
      "execution_count": 30,
      "outputs": [
        {
          "output_type": "stream",
          "name": "stdout",
          "text": [
            "Wpisz liczbę naturalną: 1368\n",
            "1\n",
            "2\n",
            "3\n",
            "4\n",
            "6\n",
            "8\n",
            "9\n",
            "12\n",
            "18\n",
            "19\n",
            "24\n",
            "36\n",
            "38\n",
            "57\n",
            "72\n",
            "76\n",
            "114\n",
            "152\n",
            "171\n",
            "228\n",
            "342\n",
            "456\n",
            "684\n",
            "1368\n"
          ]
        }
      ]
    }
  ]
}