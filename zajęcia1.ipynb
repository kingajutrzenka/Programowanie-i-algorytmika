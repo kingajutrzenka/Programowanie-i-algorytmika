{
  "nbformat": 4,
  "nbformat_minor": 0,
  "metadata": {
    "colab": {
      "provenance": [],
      "authorship_tag": "ABX9TyPIZwFiA7yyFtgw7R2HwT/8",
      "include_colab_link": true
    },
    "kernelspec": {
      "name": "python3",
      "display_name": "Python 3"
    },
    "language_info": {
      "name": "python"
    }
  },
  "cells": [
    {
      "cell_type": "markdown",
      "metadata": {
        "id": "view-in-github",
        "colab_type": "text"
      },
      "source": [
        "<a href=\"https://colab.research.google.com/github/kingajutrzenka/Programowanie-i-algorytmika/blob/main/zaj%C4%99cia1.ipynb\" target=\"_parent\"><img src=\"https://colab.research.google.com/assets/colab-badge.svg\" alt=\"Open In Colab\"/></a>"
      ]
    },
    {
      "cell_type": "markdown",
      "source": [
        "**zadanie 1**"
      ],
      "metadata": {
        "id": "mWZGAv8ipCHm"
      }
    },
    {
      "cell_type": "code",
      "execution_count": 1,
      "metadata": {
        "colab": {
          "base_uri": "https://localhost:8080/"
        },
        "id": "m50URk7Xhmrv",
        "outputId": "28b76ae1-51db-40b8-ccc2-b2d6d92157eb"
      },
      "outputs": [
        {
          "name": "stdout",
          "output_type": "stream",
          "text": [
            "podaj liczbę-7\n"
          ]
        }
      ],
      "source": [
        "a = input(\"podaj liczbę\")"
      ]
    },
    {
      "cell_type": "code",
      "source": [
        "a"
      ],
      "metadata": {
        "colab": {
          "base_uri": "https://localhost:8080/",
          "height": 36
        },
        "id": "hHU8-HsriiTY",
        "outputId": "9bc2d30b-e309-4495-9f38-334f45cbd6ee"
      },
      "execution_count": 2,
      "outputs": [
        {
          "output_type": "execute_result",
          "data": {
            "text/plain": [
              "'-7'"
            ],
            "application/vnd.google.colaboratory.intrinsic+json": {
              "type": "string"
            }
          },
          "metadata": {},
          "execution_count": 2
        }
      ]
    },
    {
      "cell_type": "code",
      "source": [
        "a= float(input(\"podaj liczbę\"))"
      ],
      "metadata": {
        "colab": {
          "base_uri": "https://localhost:8080/"
        },
        "id": "64ZSyZ_UjCx0",
        "outputId": "e6c93c12-2a5f-4206-e9a1-a1749df0e78e"
      },
      "execution_count": 3,
      "outputs": [
        {
          "name": "stdout",
          "output_type": "stream",
          "text": [
            "podaj liczbę-7\n"
          ]
        }
      ]
    },
    {
      "cell_type": "code",
      "source": [
        "a"
      ],
      "metadata": {
        "colab": {
          "base_uri": "https://localhost:8080/"
        },
        "id": "xSCup8dSjFBM",
        "outputId": "8a328e58-5d80-44be-f30c-25e27df3bd0f"
      },
      "execution_count": 4,
      "outputs": [
        {
          "output_type": "execute_result",
          "data": {
            "text/plain": [
              "-7.0"
            ]
          },
          "metadata": {},
          "execution_count": 4
        }
      ]
    },
    {
      "cell_type": "code",
      "source": [
        "a = float((input(\"podaj liczbę\")))\n",
        "if a>=0:\n",
        "    pass\n",
        "else:\n",
        "    a=-a\n",
        "print(a)"
      ],
      "metadata": {
        "colab": {
          "base_uri": "https://localhost:8080/"
        },
        "id": "EyvWkpGBmPL8",
        "outputId": "cdb31a21-a8c8-4e1c-efd0-f24103d4743b"
      },
      "execution_count": 14,
      "outputs": [
        {
          "output_type": "stream",
          "name": "stdout",
          "text": [
            "podaj liczbę-100\n",
            "100.0\n"
          ]
        }
      ]
    },
    {
      "cell_type": "code",
      "source": [
        "a = float((input(\"podaj liczbę\")))\n",
        "print(abs(a))"
      ],
      "metadata": {
        "colab": {
          "base_uri": "https://localhost:8080/"
        },
        "id": "pyBkWSrDocO-",
        "outputId": "cf400b4c-5293-4784-c339-265f9b38fb3d"
      },
      "execution_count": 16,
      "outputs": [
        {
          "output_type": "stream",
          "name": "stdout",
          "text": [
            "podaj liczbę-2\n",
            "2.0\n"
          ]
        }
      ]
    },
    {
      "cell_type": "markdown",
      "source": [
        "**zadanie 2**"
      ],
      "metadata": {
        "id": "8a6YAFvzpGLG"
      }
    },
    {
      "cell_type": "code",
      "source": [
        "a = int(input(\"podaj pierwszą liczbę naturalną\")) #BO LICZBY NATURALNE\n",
        "b = int(input(\"podaj drugą liczbę naturalną\"))\n",
        "print(a % b) # reszta z dzielnia\n"
      ],
      "metadata": {
        "colab": {
          "base_uri": "https://localhost:8080/"
        },
        "id": "Hs-eaH6ApIc9",
        "outputId": "8cca9967-9d2f-4830-95fc-52f7b893d104"
      },
      "execution_count": 20,
      "outputs": [
        {
          "output_type": "stream",
          "name": "stdout",
          "text": [
            "podaj pierwszą liczbę naturalną100\n",
            "podaj drugą liczbę naturalną10\n",
            "0\n"
          ]
        }
      ]
    },
    {
      "cell_type": "markdown",
      "source": [
        "wersja wyżej działa, ale tu robimy algorytmy XD"
      ],
      "metadata": {
        "id": "WALNSEK3qlt0"
      }
    },
    {
      "cell_type": "code",
      "source": [
        "a = int(input(\"podaj pierwszą liczbę naturalną\")) #BO LICZBY NATURALNE\n",
        "b = int(input(\"podaj drugą liczbę naturalną\"))\n",
        "while a>=b:\n",
        "    a = a - b\n",
        "print(a)"
      ],
      "metadata": {
        "colab": {
          "base_uri": "https://localhost:8080/"
        },
        "id": "85tVkPMirUlr",
        "outputId": "648ee652-c8d8-4576-b252-5e0295cbe451"
      },
      "execution_count": 27,
      "outputs": [
        {
          "output_type": "stream",
          "name": "stdout",
          "text": [
            "podaj pierwszą liczbę naturalną2\n",
            "podaj drugą liczbę naturalną5\n",
            "2\n"
          ]
        }
      ]
    },
    {
      "cell_type": "markdown",
      "source": [
        "**Zadanie 3**"
      ],
      "metadata": {
        "id": "HICsZG4stYKx"
      }
    },
    {
      "cell_type": "code",
      "source": [
        "c = 0\n",
        "a = int(input(\"podaj pierwszą liczbę naturalną\")) #BO LICZBY NATURALNE\n",
        "b = int(input(\"podaj drugą liczbę naturalną\"))\n",
        "while a>=b:\n",
        "    a = a - b\n",
        "    c = c + 1\n",
        "print(c)"
      ],
      "metadata": {
        "colab": {
          "base_uri": "https://localhost:8080/"
        },
        "id": "wIX-f4DLtgVg",
        "outputId": "60181d0d-35fd-46fb-d798-a22d088bca69"
      },
      "execution_count": 33,
      "outputs": [
        {
          "output_type": "stream",
          "name": "stdout",
          "text": [
            "podaj pierwszą liczbę naturalną2\n",
            "podaj drugą liczbę naturalną5\n",
            "0\n"
          ]
        }
      ]
    },
    {
      "cell_type": "code",
      "source": [
        "# wersja pro (szybsza)\n",
        "c = 0\n",
        "a = int(input(\"podaj pierwszą liczbę naturalną\")) #BO LICZBY NATURALNE\n",
        "b = int(input(\"podaj drugą liczbę naturalną\"))\n",
        "while a>=b:\n",
        "    a -= b\n",
        "    c += 1\n",
        "print(c)"
      ],
      "metadata": {
        "colab": {
          "base_uri": "https://localhost:8080/"
        },
        "id": "X_pRq2wwvWCP",
        "outputId": "6112bb44-f809-4294-d651-93ea1074be30"
      },
      "execution_count": 34,
      "outputs": [
        {
          "output_type": "stream",
          "name": "stdout",
          "text": [
            "podaj pierwszą liczbę naturalną7\n",
            "podaj drugą liczbę naturalną2\n",
            "3\n"
          ]
        }
      ]
    },
    {
      "cell_type": "markdown",
      "source": [
        "wykresy w zdjęciach, zadania do domu"
      ],
      "metadata": {
        "id": "hJX2qpsdvskn"
      }
    }
  ]
}