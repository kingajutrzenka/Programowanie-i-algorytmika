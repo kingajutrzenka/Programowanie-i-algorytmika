{
  "nbformat": 4,
  "nbformat_minor": 0,
  "metadata": {
    "colab": {
      "provenance": [],
      "authorship_tag": "ABX9TyNXozodhwFOg1RuLc3EkPvQ",
      "include_colab_link": true
    },
    "kernelspec": {
      "name": "python3",
      "display_name": "Python 3"
    },
    "language_info": {
      "name": "python"
    }
  },
  "cells": [
    {
      "cell_type": "markdown",
      "metadata": {
        "id": "view-in-github",
        "colab_type": "text"
      },
      "source": [
        "<a href=\"https://colab.research.google.com/github/kingajutrzenka/Programowanie-i-algorytmika/blob/main/funkcja_for.ipynb\" target=\"_parent\"><img src=\"https://colab.research.google.com/assets/colab-badge.svg\" alt=\"Open In Colab\"/></a>"
      ]
    },
    {
      "cell_type": "markdown",
      "source": [
        "# *Pętla for*"
      ],
      "metadata": {
        "id": "xee9GL30QPQD"
      }
    },
    {
      "cell_type": "markdown",
      "source": [
        "## *Nauka + własne przkłady*"
      ],
      "metadata": {
        "id": "FI5TjrAchqFU"
      }
    },
    {
      "cell_type": "markdown",
      "source": [
        "funkcja która przechodzi przez całą listę"
      ],
      "metadata": {
        "id": "-6CFVkBCTdKm"
      }
    },
    {
      "cell_type": "code",
      "source": [
        "zakupy = [\"jabłka\", \"chleb\", \"mleko\"]\n",
        "\n",
        "for produkt in zakupy:\n",
        "    print(\"Kupuję:\", produkt)"
      ],
      "metadata": {
        "colab": {
          "base_uri": "https://localhost:8080/"
        },
        "id": "42AT2jB8TbkE",
        "outputId": "6ca5d675-489c-43da-89c5-92c9732bb1f5"
      },
      "execution_count": 1,
      "outputs": [
        {
          "output_type": "stream",
          "name": "stdout",
          "text": [
            "Kupuję: jabłka\n",
            "Kupuję: chleb\n",
            "Kupuję: mleko\n"
          ]
        }
      ]
    },
    {
      "cell_type": "code",
      "source": [
        "ulubiona_liczba = input(\"Podaj swoją ulubioną liczbę: \")\n",
        "liczby = [5, 6, 7, 8, 9, 10, 11, 12, 13, 14, 15, 16, 17]\n",
        "\n",
        "znaleziono = False\n",
        "for liczba in liczby:\n",
        "    if int(ulubiona_liczba) == liczba:\n",
        "        znaleziono = True\n",
        "        break # Exit the loop once the number is found\n",
        "\n",
        "if znaleziono:\n",
        "    print(\"Moja ulubiona liczba należy do tego zbioru\")\n",
        "else:\n",
        "    print(\"Moja ulubiona liczba nie należy do tego zbioru\")"
      ],
      "metadata": {
        "colab": {
          "base_uri": "https://localhost:8080/"
        },
        "id": "xgB9FaaFTlsX",
        "outputId": "c6cfc0b3-5079-43c0-8ad9-8e8f77ab7d91"
      },
      "execution_count": 10,
      "outputs": [
        {
          "output_type": "stream",
          "name": "stdout",
          "text": [
            "Podaj swoją ulubioną liczbę: 16\n",
            "Moja ulubiona liczba należy do tego zbioru\n"
          ]
        }
      ]
    },
    {
      "cell_type": "code",
      "source": [
        "print(\"Sprawdź czy w twoim ulubionym słowie jest moja ulubiona litera XD\")\n",
        "słowo = str(input(\"Podaj swoje ulubione słowo: \"))\n",
        "litera = \"f\"\n",
        "\n",
        "znaleziono = False\n",
        "for litera_słowa in słowo:\n",
        "  if litera_słowa == litera:\n",
        "    znaleziono = True\n",
        "    break\n",
        "\n",
        "if znaleziono:\n",
        "  print(\"Moja ulubiona litera należy do tego słowa\")\n",
        "else:\n",
        "  print(\"Moja ulubiona litera nie należy do tego słowa\")"
      ],
      "metadata": {
        "colab": {
          "base_uri": "https://localhost:8080/"
        },
        "id": "L2Oc5qK3VjB7",
        "outputId": "ec7f482e-059e-4276-e9d6-9cc94750a5d3"
      },
      "execution_count": 17,
      "outputs": [
        {
          "output_type": "stream",
          "name": "stdout",
          "text": [
            "Sprawdź czy w twoim ulubionym słowie jest moja ulubiona litera XD\n",
            "Podaj swoje ulubione słowo: elsa\n",
            "Moja ulubiona litera nie należy do tego słowa\n"
          ]
        }
      ]
    },
    {
      "cell_type": "markdown",
      "source": [
        "Czasem nie masz listy ani napisu, tylko chcesz coś powtórzyć określoną liczbę razy.\n",
        "Do tego służy **range**, który tworzy „ciąg liczb”:\n"
      ],
      "metadata": {
        "id": "2Up5SPZUW_Oe"
      }
    },
    {
      "cell_type": "code",
      "source": [
        "n = int(input(\"Podaj liczbę naturalną do której będziemy odliczać: \"))\n",
        "print(f\"Liczymy do {n}\")\n",
        "for n in range(n+1):\n",
        "    print(\"...\", n)"
      ],
      "metadata": {
        "colab": {
          "base_uri": "https://localhost:8080/"
        },
        "id": "-oqqxbAjXINY",
        "outputId": "1eae947b-9ff6-4179-eb23-33b3072b9e08"
      },
      "execution_count": 22,
      "outputs": [
        {
          "output_type": "stream",
          "name": "stdout",
          "text": [
            "Podaj liczbę naturalną do której będziemy odliczać: 10\n",
            "Liczymy do 10\n",
            "... 0\n",
            "... 1\n",
            "... 2\n",
            "... 3\n",
            "... 4\n",
            "... 5\n",
            "... 6\n",
            "... 7\n",
            "... 8\n",
            "... 9\n",
            "... 10\n"
          ]
        }
      ]
    },
    {
      "cell_type": "code",
      "source": [
        "import random"
      ],
      "metadata": {
        "id": "vDuVC-9kZBUy"
      },
      "execution_count": 30,
      "outputs": []
    },
    {
      "cell_type": "code",
      "source": [
        "r = random.randint(1, 100)\n",
        "n = int(input(f\"Podaj liczbę naturalną do której będziemy odliczać co {r} : \"))\n",
        "print(f\"Odliczamy do {n}, co {r}\")\n",
        "for n in range(0, n+1, r):\n",
        "    print(n)\n"
      ],
      "metadata": {
        "colab": {
          "base_uri": "https://localhost:8080/"
        },
        "id": "FwE8XvkXYSIQ",
        "outputId": "4735713b-f724-485d-853c-09887934f285"
      },
      "execution_count": 31,
      "outputs": [
        {
          "output_type": "stream",
          "name": "stdout",
          "text": [
            "Podaj liczbę naturalną do której będziemy odliczać co 50 : 300\n",
            "Odliczamy do 300, co 50\n",
            "0\n",
            "50\n",
            "100\n",
            "150\n",
            "200\n",
            "250\n",
            "300\n"
          ]
        }
      ]
    },
    {
      "cell_type": "code",
      "source": [
        "# gra w lotto\n",
        "ilość = int(input(\"Trafienie ilu liczb będzie Cię satysfakcjonować?: \"))\n",
        "a = int(input(\"Podaj pierwszą liczbę od 1 do 49: \"))\n",
        "b = int(input(\"Podaj drugą liczbę od 1 do 49: \"))\n",
        "c = int(input(\"Podaj trzecią liczbę od 1 do 49: \"))\n",
        "d = int(input(\"Podaj czwartą liczbę od 1 do 49: \"))\n",
        "e = int(input(\"Podaj piątą liczbę od 1 do 49: \"))\n",
        "f = int(input(\"Podaj szóstą liczbę od 1 do 49: \"))\n",
        "lista1 = random.sample(range(1, 50), 6)\n",
        "print(f\"twoje cyfry to: {a}, {b}, {c}, {d}, {e}, {f}\")\n",
        "lista = [a, b, c, d, e, f]\n",
        "lista1 = [a1, b1, c1, d1, e1, f1]\n",
        "i  =  0\n",
        "for liczba in lista:\n",
        "  if liczba in lista1:\n",
        "    print(f\"trafiłeś liczbę : {liczba}\")\n",
        "    i += 1\n",
        "print(f\"Trafiłeś {i} liczb\")\n",
        "if i >= ilość:\n",
        "  print(\"Gratulacje!\")\n",
        "if i < ilość:\n",
        "  print(\"Niestety nie trafiłeś tyle liczb ile chciałeś\")\n",
        "print(f\"Wylosowane liczby w dniu dzisiejszym to: {a1}, {b1}, {c1}, {d1}, {e1}, {f1}\")\n"
      ],
      "metadata": {
        "colab": {
          "base_uri": "https://localhost:8080/"
        },
        "id": "f-4h4MRycrl-",
        "outputId": "b39a47da-2774-4a37-d4f6-04b26667c82e"
      },
      "execution_count": 61,
      "outputs": [
        {
          "output_type": "stream",
          "name": "stdout",
          "text": [
            "Trafienie ilu liczb będzie Cię satysfakcjonować?: 4\n",
            "Podaj pierwszą liczbę od 1 do 49: 4\n",
            "Podaj drugą liczbę od 1 do 49: 4\n",
            "Podaj trzecią liczbę od 1 do 49: 4\n",
            "Podaj czwartą liczbę od 1 do 49: 4\n",
            "Podaj piątą liczbę od 1 do 49: 4\n",
            "Podaj szóstą liczbę od 1 do 49: 4\n",
            "twoje cyfry to: 4, 4, 4, 4, 4, 4\n",
            "trafiłeś liczbę : 4\n",
            "trafiłeś liczbę : 4\n",
            "trafiłeś liczbę : 4\n",
            "trafiłeś liczbę : 4\n",
            "trafiłeś liczbę : 4\n",
            "trafiłeś liczbę : 4\n",
            "Trafiłeś 6 liczb\n",
            "Gratulacje!\n",
            "Wylosowane liczby w dniu dzisiejszym to: 25, 29, 33, 4, 33, 41\n"
          ]
        }
      ]
    },
    {
      "cell_type": "markdown",
      "source": [
        "## *Przykłady z zajęć*"
      ],
      "metadata": {
        "id": "YIrXgGjMh6oD"
      }
    },
    {
      "cell_type": "markdown",
      "source": [
        "*liczby bliźniacze :*\n",
        "- para liczb pierwszych, które różnią się od siebie dokładnie o 2.\n",
        "- np. 5 i 7"
      ],
      "metadata": {
        "id": "gFMCZMuxiMgd"
      }
    },
    {
      "cell_type": "code",
      "source": [
        "n = int(input(\"Podaj liczbę naturalną: \"))\n",
        "m = int(input(\"Podaj liczbę naturalną: \"))\n",
        "dzielniki_n, dzielniki_m = [], []  #puste listy które będą przechowywać dzielniki\n",
        "for a in range(1, n + 1): #funkcja przechodzi przez wszytskie liczby od 1 do n (musimy dać zapis n + 1 )\n",
        "   if not (n % a): dzielniki_n.append(a) # (if not n % a) - jeśli reszta z dzielenia = 0 , zapisujemy tą liczbę w liście\n",
        "for a in range(1, m + 1):\n",
        "   if not (m % a): dzielniki_m.append(a)\n",
        "len(dzielniki_n) == 2 and len(dzielniki_m) == 2 and abs(n - m) == 2 # sprawdzamy czy mają po jednym dzielniku i sprawdzamy czy ich różnica to 2\n"
      ],
      "metadata": {
        "colab": {
          "base_uri": "https://localhost:8080/"
        },
        "id": "jhF0GK0dflrA",
        "outputId": "d5a15ebc-7186-407d-8120-a3e0eeba5efd"
      },
      "execution_count": 6,
      "outputs": [
        {
          "name": "stdout",
          "output_type": "stream",
          "text": [
            "Podaj liczbę naturalną: 5\n",
            "Podaj liczbę naturalną: 3\n"
          ]
        },
        {
          "output_type": "execute_result",
          "data": {
            "text/plain": [
              "True"
            ]
          },
          "metadata": {},
          "execution_count": 6
        }
      ]
    }
  ]
}
