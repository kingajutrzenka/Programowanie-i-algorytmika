{
  "nbformat": 4,
  "nbformat_minor": 0,
  "metadata": {
    "colab": {
      "provenance": [],
      "authorship_tag": "ABX9TyM1qa702yqhAFJzJ+/azUKQ",
      "include_colab_link": true
    },
    "kernelspec": {
      "name": "python3",
      "display_name": "Python 3"
    },
    "language_info": {
      "name": "python"
    }
  },
  "cells": [
    {
      "cell_type": "markdown",
      "metadata": {
        "id": "view-in-github",
        "colab_type": "text"
      },
      "source": [
        "<a href=\"https://colab.research.google.com/github/kingajutrzenka/Programowanie-i-algorytmika/blob/main/home/zadanie7.ipynb\" target=\"_parent\"><img src=\"https://colab.research.google.com/assets/colab-badge.svg\" alt=\"Open In Colab\"/></a>"
      ]
    },
    {
      "cell_type": "markdown",
      "source": [
        "**Zadanie 7**"
      ],
      "metadata": {
        "id": "4zg26EYdIiiQ"
      }
    },
    {
      "cell_type": "code",
      "execution_count": 204,
      "metadata": {
        "colab": {
          "base_uri": "https://localhost:8080/"
        },
        "id": "pJjOB_WPIboi",
        "outputId": "d99ad415-e8fb-4357-e034-e408c60e39ee"
      },
      "outputs": [
        {
          "name": "stdout",
          "output_type": "stream",
          "text": [
            "Podaj ile liczb będzie na liście: 1\n"
          ]
        }
      ],
      "source": [
        "il = int(input(\"Podaj ile liczb będzie na liście: \"))"
      ]
    },
    {
      "cell_type": "code",
      "source": [
        "from random import randint"
      ],
      "metadata": {
        "id": "B99GmbAZIkBr"
      },
      "execution_count": 205,
      "outputs": []
    },
    {
      "cell_type": "code",
      "source": [
        "lista = [randint(-100, 100) for _ in range(il)]"
      ],
      "metadata": {
        "id": "-IIaIXAtJGrm"
      },
      "execution_count": 206,
      "outputs": []
    },
    {
      "cell_type": "code",
      "source": [
        "lista"
      ],
      "metadata": {
        "colab": {
          "base_uri": "https://localhost:8080/"
        },
        "id": "8Lbv-dayJQaz",
        "outputId": "b1e09719-65a9-42d6-be9a-aa01371b880d"
      },
      "execution_count": 207,
      "outputs": [
        {
          "output_type": "execute_result",
          "data": {
            "text/plain": [
              "[75]"
            ]
          },
          "metadata": {},
          "execution_count": 207
        }
      ]
    },
    {
      "cell_type": "markdown",
      "source": [
        "wersja zosia"
      ],
      "metadata": {
        "id": "JO1Vi5bgIqw4"
      }
    },
    {
      "cell_type": "code",
      "source": [
        "def zadanie7(dane):\n",
        "\tmd=1   #maksymalna długość\n",
        "\tad=1  #aktualna długość\n",
        "\tfor i in range(1, len(dane)):\n",
        "\t\tif dane[i]>=dane[i-1]:\n",
        "\t\t\tad+=1\n",
        "\t\t\tmd=max(md,ad)\n",
        "\t\telse:\n",
        "\t\t\tad=1\n",
        "\treturn md"
      ],
      "metadata": {
        "id": "HNUS9QrsMMHW"
      },
      "execution_count": 208,
      "outputs": []
    },
    {
      "cell_type": "markdown",
      "source": [
        "# Zabawa\n",
        "\n",
        "\n",
        "---\n"
      ],
      "metadata": {
        "id": "BU-bKXNgL9AE"
      }
    },
    {
      "cell_type": "code",
      "source": [
        "x = int(input())\n"
      ],
      "metadata": {
        "colab": {
          "base_uri": "https://localhost:8080/"
        },
        "id": "Itr0lUb1LIqo",
        "outputId": "7d61245d-8992-4638-ec32-95340facd7f0"
      },
      "execution_count": 209,
      "outputs": [
        {
          "name": "stdout",
          "output_type": "stream",
          "text": [
            "1\n"
          ]
        }
      ]
    },
    {
      "cell_type": "code",
      "source": [
        "dane = [randint(0, x) for _ in range(10000)]"
      ],
      "metadata": {
        "id": "w4ttL_irQ00f"
      },
      "execution_count": 210,
      "outputs": []
    },
    {
      "cell_type": "code",
      "source": [
        "def zadanie7(dane):\n",
        "\tmd=1   #maksymalna długość\n",
        "\tad=1  #aktualna długość\n",
        "\tfor i in range(1, len(dane)):\n",
        "\t\tif dane[i]>dane[i-1]:\n",
        "\t\t\tad+=1\n",
        "\t\t\tmd=max(md,ad)\n",
        "\t\telse:\n",
        "\t\t\tad=1\n",
        "\treturn md"
      ],
      "metadata": {
        "id": "aFQcZGeGJTA_"
      },
      "execution_count": 211,
      "outputs": []
    },
    {
      "cell_type": "code",
      "source": [
        "zadanie7(dane)"
      ],
      "metadata": {
        "colab": {
          "base_uri": "https://localhost:8080/"
        },
        "id": "jnnOVRBzJwrY",
        "outputId": "c042ab92-42a5-4bde-faa1-ca43482a0159"
      },
      "execution_count": 212,
      "outputs": [
        {
          "output_type": "execute_result",
          "data": {
            "text/plain": [
              "2"
            ]
          },
          "metadata": {},
          "execution_count": 212
        }
      ]
    }
  ]
}