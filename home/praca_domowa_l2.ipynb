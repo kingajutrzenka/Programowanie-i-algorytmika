{
  "cells": [
    {
      "cell_type": "markdown",
      "metadata": {
        "id": "view-in-github",
        "colab_type": "text"
      },
      "source": [
        "<a href=\"https://colab.research.google.com/github/kingajutrzenka/Programowanie-i-algorytmika/blob/main/praca_domowa_l2.ipynb\" target=\"_parent\"><img src=\"https://colab.research.google.com/assets/colab-badge.svg\" alt=\"Open In Colab\"/></a>"
      ]
    },
    {
      "cell_type": "markdown",
      "source": [
        "# ZADANIA 5+"
      ],
      "metadata": {
        "id": "3o0FyRUSIApK"
      },
      "id": "3o0FyRUSIApK"
    },
    {
      "cell_type": "markdown",
      "source": [
        "**ZADANIE 5**"
      ],
      "metadata": {
        "id": "uZZSOKNIH4Qz"
      },
      "id": "uZZSOKNIH4Qz"
    },
    {
      "cell_type": "code",
      "execution_count": null,
      "id": "8ee41431-272c-45ee-97b6-c777d3aa7c31",
      "metadata": {
        "id": "8ee41431-272c-45ee-97b6-c777d3aa7c31",
        "outputId": "925987a0-1675-4b6b-dcff-f4db952196b6"
      },
      "outputs": [
        {
          "name": "stdin",
          "output_type": "stream",
          "text": [
            "Podaj liczbę naturalną:  6\n",
            "Podaj liczbę naturalną:  5\n"
          ]
        },
        {
          "name": "stdout",
          "output_type": "stream",
          "text": [
            "1\n"
          ]
        }
      ],
      "source": [
        "a = int(input(\"Podaj liczbę naturalną: \"))\n",
        "b = int(input(\"Podaj liczbę naturalną: \"))\n",
        "while (a-b)>0:\n",
        "    if a>b:\n",
        "        a= a-b\n",
        "        i = i+1\n",
        "    else: print(a/b - i)\n",
        "else:\n",
        "    print(a)\n",
        "#DOBRZEEEEEEEEEEEEEEEEEEEEEEEEEEEEEEEEEEEEEEEEEEEEEEEEEEEEEEEEEEEEEEEEEEEEEEEEEEEEEEEEEEEEEEEEEEEEEEEEEEEEEEEEEEEEEEEEEEEEEEEEEEEEEEEEEEEEEEEEEEEEEEE"
      ]
    },
    {
      "cell_type": "markdown",
      "source": [
        "**ZADANIE 6**"
      ],
      "metadata": {
        "id": "quSQoemfHyx5"
      },
      "id": "quSQoemfHyx5"
    },
    {
      "cell_type": "code",
      "execution_count": null,
      "id": "0b7d9c57-16da-4abe-9954-707dd983d303",
      "metadata": {
        "id": "0b7d9c57-16da-4abe-9954-707dd983d303",
        "outputId": "11833f6c-cbfb-473d-b13d-50ab0864417d"
      },
      "outputs": [
        {
          "name": "stdin",
          "output_type": "stream",
          "text": [
            "Podaj liczbę naturalną:  5\n",
            "Podaj liczbę naturalną:  6\n"
          ]
        },
        {
          "name": "stdout",
          "output_type": "stream",
          "text": [
            "0\n"
          ]
        }
      ],
      "source": [
        "a = int(input(\"Podaj liczbę naturalną: \"))\n",
        "b = int(input(\"Podaj liczbę naturalną: \"))\n",
        "print(a//b)"
      ]
    },
    {
      "cell_type": "code",
      "execution_count": null,
      "id": "c38e8a17-79b0-4fbe-85e8-23889404f288",
      "metadata": {
        "colab": {
          "base_uri": "https://localhost:8080/"
        },
        "id": "c38e8a17-79b0-4fbe-85e8-23889404f288",
        "outputId": "df2d479e-ebc5-4bf4-b4fc-fc50d1403afd"
      },
      "outputs": [
        {
          "output_type": "stream",
          "name": "stdout",
          "text": [
            "Podaj liczbę naturalną: 8\n",
            "Podaj liczbę naturalną: 4\n",
            "2\n"
          ]
        }
      ],
      "source": [
        "a = int(input(\"Podaj liczbę naturalną: \"))\n",
        "b = int(input(\"Podaj liczbę naturalną: \"))\n",
        "i=0\n",
        "if (a-b)>=0:\n",
        "    while a>b:\n",
        "        a= a-b\n",
        "        i = i+1\n",
        "    if a == b:\n",
        "        print(i+1)\n",
        "    else:\n",
        "        print(i)\n",
        "else:\n",
        "    print(0)\n"
      ]
    },
    {
      "cell_type": "markdown",
      "source": [
        "**ZADANIE 7**"
      ],
      "metadata": {
        "id": "gNJwQM3eHtxo"
      },
      "id": "gNJwQM3eHtxo"
    },
    {
      "cell_type": "markdown",
      "source": [
        "Dana jest liczba naturalna n:\n",
        "- a) podaj cyfrę jedności, dziesiątek, setek o ile istnieją,\n",
        "- b) wypisz na ekranie cyfry liczby n w kolejności od najmniej znaczącej,\n",
        "- c) oblicz sumę cyfr liczby n,\n",
        "- d) zapisz liczbę n w systemie dwójkowym,\n",
        "- e) zapisz liczbę n w dowolnym systemie o podstawie 2<=p<=10,\n",
        "- f) oblicz liczbę cyfr w rozwinięciu binarnym liczby n."
      ],
      "metadata": {
        "id": "xW2biRsyIQ5o"
      },
      "id": "xW2biRsyIQ5o"
    },
    {
      "cell_type": "markdown",
      "source": [
        "*a*\n",
        "\n",
        "Potrzebujemy:\n",
        "*  operatora reszty z dzielenia *%*\n",
        "*  operator dzielenia całkowitego *//*\n",
        "\n",
        "liczba jedności n % 10 - reszta z dzielenia przez 10\n",
        "liczba dziesiątek (n // 10) % 10 - dzielimy by usunąć ostatnią cyfrę i potem dzielimy by dostać ostatnią\n",
        "liczba setek (n // 100) % 10 - usuwamy 2 ostatnie"
      ],
      "metadata": {
        "id": "IOdzrE6eOXE7"
      },
      "id": "IOdzrE6eOXE7"
    },
    {
      "cell_type": "code",
      "source": [
        "n = int(input(\"Podaj liczbę naturalną: \"))\n",
        "print(\"Liczba jedności:\", n % 10)\n",
        "print(\"Liczba dziesiątek:\", (n // 10) % 10)\n",
        "print(\"Liczba setek:\", (n // 100) % 10)"
      ],
      "metadata": {
        "colab": {
          "base_uri": "https://localhost:8080/"
        },
        "id": "Iy49mV-WQmLL",
        "outputId": "2bff7262-df48-4d30-b993-3dac4805abe4"
      },
      "id": "Iy49mV-WQmLL",
      "execution_count": null,
      "outputs": [
        {
          "output_type": "stream",
          "name": "stdout",
          "text": [
            "Podaj liczbę naturalną: 10\n",
            "Liczba jedności: 0\n",
            "Liczba dziesiątek: 1\n",
            "Liczba setek: 0\n"
          ]
        }
      ]
    },
    {
      "cell_type": "markdown",
      "source": [
        "*b*\n",
        "\n",
        "*n//10* usuwa ostatnią cyfrę\n",
        "\n",
        "powtórz!!!!!"
      ],
      "metadata": {
        "id": "6QlWaE8QUSTU"
      },
      "id": "6QlWaE8QUSTU"
    },
    {
      "cell_type": "code",
      "source": [
        "n = int(input(\"Podaj liczbę naturalną: \"))\n",
        "while n > 0 and n == int(n):\n",
        "  print(n % 10)\n",
        "  n = n//10 # usuwanie ostatniej cyfry"
      ],
      "metadata": {
        "colab": {
          "base_uri": "https://localhost:8080/"
        },
        "id": "J2gwXrDyUs6g",
        "outputId": "b90dfe84-71e3-4f44-fd8c-a15d265d64c4"
      },
      "id": "J2gwXrDyUs6g",
      "execution_count": null,
      "outputs": [
        {
          "output_type": "stream",
          "name": "stdout",
          "text": [
            "Podaj liczbę naturalną: 65654689\n",
            "9\n",
            "8\n",
            "6\n",
            "4\n",
            "5\n",
            "6\n",
            "5\n",
            "6\n"
          ]
        }
      ]
    },
    {
      "cell_type": "markdown",
      "source": [
        "*C*\n"
      ],
      "metadata": {
        "id": "Jfza_zsYbrE0"
      },
      "id": "Jfza_zsYbrE0"
    },
    {
      "cell_type": "code",
      "source": [
        "n = int(input(\"Podaj liczbę naturalną: \"))\n",
        "l = 0\n",
        "while n > 0:\n",
        "  l = l + (n % 10)\n",
        "  n = n//10\n",
        "print(l)"
      ],
      "metadata": {
        "colab": {
          "base_uri": "https://localhost:8080/"
        },
        "id": "1sZ6RrRiZPmH",
        "outputId": "c99cb960-0f07-4de1-c60d-89e6e05ad992"
      },
      "id": "1sZ6RrRiZPmH",
      "execution_count": null,
      "outputs": [
        {
          "output_type": "stream",
          "name": "stdout",
          "text": [
            "Podaj liczbę naturalną: 365\n",
            "14\n"
          ]
        }
      ]
    },
    {
      "cell_type": "markdown",
      "source": [
        "*d*\n",
        "\n",
        "zapisz liczbę n w systemie dwójkowym - binarnym\n",
        "\n",
        "To tak naprawdę ciąg dzielenia przez 2 i zapisywania reszt."
      ],
      "metadata": {
        "id": "NOhh4ChRdcgc"
      },
      "id": "NOhh4ChRdcgc"
    },
    {
      "cell_type": "code",
      "source": [
        "n = int(input(\"Podaj liczbę naturalną: \"))\n",
        "wynik = \"\"\n",
        "while n>0:\n",
        "  wynik += str(n%2)\n",
        "  n = n // 2\n",
        "wynik = wynik[::-1]\n",
        "print(wynik)"
      ],
      "metadata": {
        "colab": {
          "base_uri": "https://localhost:8080/"
        },
        "id": "4jUYeLuIetFD",
        "outputId": "366be3a7-5532-45a0-b83d-b94e4856989e"
      },
      "id": "4jUYeLuIetFD",
      "execution_count": null,
      "outputs": [
        {
          "output_type": "stream",
          "name": "stdout",
          "text": [
            "Podaj liczbę naturalną: 5\n",
            "101\n"
          ]
        }
      ]
    },
    {
      "cell_type": "markdown",
      "source": [
        "*e*\n",
        "\n",
        "zapisz liczbę n w dowolnym systemie o podstawie 2<=p<=10,"
      ],
      "metadata": {
        "id": "BWvLNfmBfR78"
      },
      "id": "BWvLNfmBfR78"
    },
    {
      "cell_type": "code",
      "source": [
        "n = int(input(\"Podaj liczbę naturalną: \"))\n",
        "p = int(input(\"Podaj liczbę od 2 do 10: \"))\n",
        "wynik=\"\"\n",
        "while n>0:\n",
        "  wynik += str(n%p)\n",
        "  n = n // p\n",
        "wynik = wynik[::-1]\n",
        "print(wynik)"
      ],
      "metadata": {
        "colab": {
          "base_uri": "https://localhost:8080/"
        },
        "id": "7TP45AgKCSZv",
        "outputId": "6c0e8b94-be7f-43f3-8d21-1e6f61316108"
      },
      "id": "7TP45AgKCSZv",
      "execution_count": null,
      "outputs": [
        {
          "output_type": "stream",
          "name": "stdout",
          "text": [
            "Podaj liczbę naturalną: 774537612836848585658468585853858485383484865488\n",
            "Podaj liczbę od 2 do 10: 2\n",
            "1000011110101011011101111011111011111001000001010110101111001100110110001001000000110000110110001100000100100111100011000101000111000111010011101111101111010000\n"
          ]
        }
      ]
    },
    {
      "cell_type": "markdown",
      "source": [
        "*f*\n",
        "\n",
        "oblicz liczbę cyfr w rozwinięciu binarnym liczby n"
      ],
      "metadata": {
        "id": "Fn1quPj-FYRJ"
      },
      "id": "Fn1quPj-FYRJ"
    },
    {
      "cell_type": "code",
      "source": [
        "n = int(input(\"Podaj liczbę naturalną: \"))\n",
        "i=0\n",
        "while n>0:\n",
        "  n = n // 2\n",
        "  i += 1\n",
        "print(i)\n"
      ],
      "metadata": {
        "colab": {
          "base_uri": "https://localhost:8080/"
        },
        "id": "x7AW9MltHGqp",
        "outputId": "f31697a8-a8d3-4a72-d308-52e192ccc316"
      },
      "id": "x7AW9MltHGqp",
      "execution_count": null,
      "outputs": [
        {
          "output_type": "stream",
          "name": "stdout",
          "text": [
            "Podaj liczbę naturalną: 5\n",
            "3\n"
          ]
        }
      ]
    },
    {
      "cell_type": "markdown",
      "source": [
        "# zadanie 8"
      ],
      "metadata": {
        "id": "usidyjpS19-J"
      },
      "id": "usidyjpS19-J"
    },
    {
      "cell_type": "markdown",
      "source": [
        "Zadanie 8.\n",
        "\n",
        "Dana jest liczba naturalna n:\n",
        "\n",
        "a) wypisz wszystkie dzielniki naturalne liczby n,\n",
        "\n",
        "b) odpowiedz na pytanie. czy n jest liczbą doskonałą?\n",
        "\n",
        "c) odpowiedz na pytanie. czy n jest liczbą pierwszą?\n",
        "\n",
        "d) Znajdź faktoryzację liczby n (rozkład na czynniki pierwsze)."
      ],
      "metadata": {
        "id": "EE2l966Q2mIj"
      },
      "id": "EE2l966Q2mIj"
    },
    {
      "cell_type": "code",
      "source": [
        "#a\n",
        "n = int(input(\"Podaj liczbę naturalną: \"))\n",
        "i = 1\n",
        "while i<=n:\n",
        "  if n % i == 0:\n",
        "    print(i)\n",
        "  i += 1"
      ],
      "metadata": {
        "colab": {
          "base_uri": "https://localhost:8080/"
        },
        "id": "oY3X5XsN2xVO",
        "outputId": "dff81ada-608f-48de-cfce-7bcb5860c9cc"
      },
      "id": "oY3X5XsN2xVO",
      "execution_count": 8,
      "outputs": [
        {
          "output_type": "stream",
          "name": "stdout",
          "text": [
            "Podaj liczbę naturalną: 1\n",
            "1\n"
          ]
        }
      ]
    },
    {
      "cell_type": "code",
      "source": [
        "#b\n",
        "n = int(input(\"Podaj liczbę naturalną: \"))\n",
        "i = 1\n",
        "p = 0\n",
        "while i<n:\n",
        "    if n % i == 0:\n",
        "        p += i\n",
        "        i+= 1\n",
        "if p == n:\n",
        "  print(f\"{n} jest liczbą doskonałą\")\n",
        "else:\n",
        "  print(f\"{n} nie jest liczbą doskonałą\")\n"
      ],
      "metadata": {
        "colab": {
          "base_uri": "https://localhost:8080/"
        },
        "id": "z4sNL3vH4N3E",
        "outputId": "643f8077-b066-4868-ca17-becf614b87d5"
      },
      "id": "z4sNL3vH4N3E",
      "execution_count": 14,
      "outputs": [
        {
          "output_type": "stream",
          "name": "stdout",
          "text": [
            "Podaj liczbę naturalną: 1\n",
            "1 nie jest liczbą doskonałą\n"
          ]
        }
      ]
    },
    {
      "cell_type": "code",
      "source": [
        "#c\n",
        "n = int(input(\"Podaj liczbę naturalną: \"))\n",
        "i = 1\n",
        "p = 0\n",
        "while i<n:\n",
        "    if n % i == 0:\n",
        "        p += i\n",
        "        i+= 1\n",
        "if p == 1:\n",
        "  print(f\"{n} jest liczbą pierwszą\")\n",
        "else:\n",
        "  print(f\"{n} nie jest liczbą pierwszą\")\n"
      ],
      "metadata": {
        "colab": {
          "base_uri": "https://localhost:8080/"
        },
        "outputId": "91a488f8-94b8-4864-ef7d-983639d503db",
        "id": "ify4V3xl6kgk"
      },
      "execution_count": 15,
      "outputs": [
        {
          "output_type": "stream",
          "name": "stdout",
          "text": [
            "Podaj liczbę naturalną: 1\n",
            "1 nie jest liczbą pierwszą\n"
          ]
        }
      ],
      "id": "ify4V3xl6kgk"
    },
    {
      "cell_type": "code",
      "source": [
        "#d\n",
        "n = int(input(\"Podaj liczbę naturalną: \"))\n",
        "i = 2\n",
        "while i<=n:\n",
        "    if n % i == 0:\n",
        "        print(i)\n",
        "        n = n/i\n",
        "    else:\n",
        "        i += 1\n"
      ],
      "metadata": {
        "colab": {
          "base_uri": "https://localhost:8080/"
        },
        "outputId": "804c9eb2-12d1-4cfc-a2d9-83164ddda0e9",
        "id": "AKCBGJyq8efo"
      },
      "execution_count": 36,
      "outputs": [
        {
          "output_type": "stream",
          "name": "stdout",
          "text": [
            "Podaj liczbę naturalną: 2\n",
            "2\n"
          ]
        }
      ],
      "id": "AKCBGJyq8efo"
    }
  ],
  "metadata": {
    "kernelspec": {
      "display_name": "Python 3 (ipykernel)",
      "language": "python",
      "name": "python3"
    },
    "language_info": {
      "codemirror_mode": {
        "name": "ipython",
        "version": 3
      },
      "file_extension": ".py",
      "mimetype": "text/x-python",
      "name": "python",
      "nbconvert_exporter": "python",
      "pygments_lexer": "ipython3",
      "version": "3.13.5"
    },
    "colab": {
      "provenance": [],
      "include_colab_link": true
    }
  },
  "nbformat": 4,
  "nbformat_minor": 5
}
