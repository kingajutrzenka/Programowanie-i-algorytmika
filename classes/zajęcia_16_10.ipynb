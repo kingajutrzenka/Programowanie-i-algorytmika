{
  "cells": [
    {
      "cell_type": "markdown",
      "metadata": {
        "id": "view-in-github",
        "colab_type": "text"
      },
      "source": [
        "<a href=\"https://colab.research.google.com/github/kingajutrzenka/Programowanie-i-algorytmika/blob/main/zaj%C4%99cia_16_10.ipynb\" target=\"_parent\"><img src=\"https://colab.research.google.com/assets/colab-badge.svg\" alt=\"Open In Colab\"/></a>"
      ]
    },
    {
      "cell_type": "code",
      "execution_count": null,
      "id": "682ea5b4-f642-4cd7-a7f4-24e18a86d83b",
      "metadata": {
        "id": "682ea5b4-f642-4cd7-a7f4-24e18a86d83b",
        "outputId": "9b0a5ea9-4236-4d6a-d07d-6a67771aec23"
      },
      "outputs": [
        {
          "name": "stdout",
          "output_type": "stream",
          "text": [
            "4\n"
          ]
        }
      ],
      "source": [
        "print(4)"
      ]
    },
    {
      "cell_type": "code",
      "execution_count": null,
      "id": "c13c6250-805e-479c-92a5-094a8da796c6",
      "metadata": {
        "id": "c13c6250-805e-479c-92a5-094a8da796c6"
      },
      "outputs": [],
      "source": [
        "# Zadanie 1"
      ]
    },
    {
      "cell_type": "code",
      "execution_count": null,
      "id": "177a3c60-01e9-4ce6-b1a7-1b0997ed50b0",
      "metadata": {
        "id": "177a3c60-01e9-4ce6-b1a7-1b0997ed50b0",
        "outputId": "6d9f6d29-f5bb-4482-c8fb-7715d1387560"
      },
      "outputs": [
        {
          "data": {
            "text/plain": [
              "130"
            ]
          },
          "execution_count": 10,
          "metadata": {},
          "output_type": "execute_result"
        }
      ],
      "source": [
        "123 + 7"
      ]
    },
    {
      "cell_type": "code",
      "execution_count": null,
      "id": "43846925-ec3d-479a-a56b-53ae1edeea67",
      "metadata": {
        "id": "43846925-ec3d-479a-a56b-53ae1edeea67",
        "outputId": "5dcca2bf-30a2-4c0d-ad87-bca9c49d8b0d"
      },
      "outputs": [
        {
          "data": {
            "text/plain": [
              "-70"
            ]
          },
          "execution_count": 11,
          "metadata": {},
          "output_type": "execute_result"
        }
      ],
      "source": [
        "_-200 # wyższy wiersz -200"
      ]
    },
    {
      "cell_type": "code",
      "execution_count": null,
      "id": "cbd55d9f-deda-4b62-ab38-aaa30fec1210",
      "metadata": {
        "id": "cbd55d9f-deda-4b62-ab38-aaa30fec1210",
        "outputId": "821f89dd-31d6-4388-eb09-92bcd78af3a4"
      },
      "outputs": [
        {
          "name": "stdout",
          "output_type": "stream",
          "text": [
            "0.5\n",
            "0.30000000000000004\n",
            "5.1\n",
            "6.3999999999999995\n"
          ]
        }
      ],
      "source": [
        "print(0.2+0.3)\n",
        "print(0.2+0.1)\n",
        "print(8.5-3.4)\n",
        "print(12.2-5.8)"
      ]
    },
    {
      "cell_type": "code",
      "execution_count": null,
      "id": "4f341c84-5418-4433-b203-e4032571abcf",
      "metadata": {
        "id": "4f341c84-5418-4433-b203-e4032571abcf",
        "outputId": "015cb3ef-b0f8-483c-8450-6869e63d2eb8"
      },
      "outputs": [
        {
          "data": {
            "text/plain": [
              "10"
            ]
          },
          "execution_count": 14,
          "metadata": {},
          "output_type": "execute_result"
        }
      ],
      "source": [
        "2*5"
      ]
    },
    {
      "cell_type": "code",
      "execution_count": null,
      "id": "60a2bad0-30e0-4159-8b1a-25d9365bf033",
      "metadata": {
        "id": "60a2bad0-30e0-4159-8b1a-25d9365bf033",
        "outputId": "34049ff7-9c09-4a03-857e-6d981bbdf809"
      },
      "outputs": [
        {
          "data": {
            "text/plain": [
              "-42.0"
            ]
          },
          "execution_count": 15,
          "metadata": {},
          "output_type": "execute_result"
        }
      ],
      "source": [
        "-10.5*4"
      ]
    },
    {
      "cell_type": "code",
      "execution_count": null,
      "id": "219aa4ae-72ab-4579-8731-d6ac4e267a90",
      "metadata": {
        "id": "219aa4ae-72ab-4579-8731-d6ac4e267a90",
        "outputId": "9360d462-db2d-421f-b943-7b57c97e8253"
      },
      "outputs": [
        {
          "data": {
            "text/plain": [
              "2.25"
            ]
          },
          "execution_count": 16,
          "metadata": {},
          "output_type": "execute_result"
        }
      ],
      "source": [
        "9/4"
      ]
    },
    {
      "cell_type": "code",
      "execution_count": null,
      "id": "f99d7e3e-7188-427f-9cd3-2f4e3b2b2fb2",
      "metadata": {
        "id": "f99d7e3e-7188-427f-9cd3-2f4e3b2b2fb2",
        "outputId": "1bebab81-b0b3-41d0-d2be-b6900c900ad1"
      },
      "outputs": [
        {
          "data": {
            "text/plain": [
              "-2.25"
            ]
          },
          "execution_count": 17,
          "metadata": {},
          "output_type": "execute_result"
        }
      ],
      "source": [
        "9/-4"
      ]
    },
    {
      "cell_type": "code",
      "execution_count": null,
      "id": "34510c9a-afe9-42b1-8795-c369241fc005",
      "metadata": {
        "id": "34510c9a-afe9-42b1-8795-c369241fc005",
        "outputId": "219de616-52f8-49e3-893a-401a9e8f893d"
      },
      "outputs": [
        {
          "data": {
            "text/plain": [
              "2"
            ]
          },
          "execution_count": 18,
          "metadata": {},
          "output_type": "execute_result"
        }
      ],
      "source": [
        "9//4 #2 całości"
      ]
    },
    {
      "cell_type": "code",
      "execution_count": null,
      "id": "98ba9b46-64f3-4a49-8a3a-1e6290f167f5",
      "metadata": {
        "id": "98ba9b46-64f3-4a49-8a3a-1e6290f167f5",
        "outputId": "ed45d9d9-378f-4b05-8d1e-2c8fdb6e7693"
      },
      "outputs": [
        {
          "data": {
            "text/plain": [
              "-3"
            ]
          },
          "execution_count": 19,
          "metadata": {},
          "output_type": "execute_result"
        }
      ],
      "source": [
        "9//-4"
      ]
    },
    {
      "cell_type": "code",
      "execution_count": null,
      "id": "83e79684-dccc-4829-8362-9d135f7f86f9",
      "metadata": {
        "id": "83e79684-dccc-4829-8362-9d135f7f86f9",
        "outputId": "9ec1ddd5-e8d1-46da-fd59-b9f3f940048d"
      },
      "outputs": [
        {
          "data": {
            "text/plain": [
              "18.0"
            ]
          },
          "execution_count": 20,
          "metadata": {},
          "output_type": "execute_result"
        }
      ],
      "source": [
        "12+18/3"
      ]
    },
    {
      "cell_type": "code",
      "execution_count": null,
      "id": "5437faea-7a49-4c5e-b66f-adb97ebc7387",
      "metadata": {
        "id": "5437faea-7a49-4c5e-b66f-adb97ebc7387",
        "outputId": "159a3c0d-af69-4012-85cd-008e6ca33e60"
      },
      "outputs": [
        {
          "data": {
            "text/plain": [
              "10.0"
            ]
          },
          "execution_count": 21,
          "metadata": {},
          "output_type": "execute_result"
        }
      ],
      "source": [
        "(12+18)/3"
      ]
    },
    {
      "cell_type": "code",
      "execution_count": null,
      "id": "2527fef2-9cd3-4474-810a-56df2ecfcfa1",
      "metadata": {
        "id": "2527fef2-9cd3-4474-810a-56df2ecfcfa1",
        "outputId": "c59e215f-8726-4f63-8b5d-e178d31a3294"
      },
      "outputs": [
        {
          "data": {
            "text/plain": [
              "0"
            ]
          },
          "execution_count": 22,
          "metadata": {},
          "output_type": "execute_result"
        }
      ],
      "source": [
        "24%2 #reszta z dzielenia liczb całmkowitych"
      ]
    },
    {
      "cell_type": "code",
      "execution_count": null,
      "id": "b373dc1e-d0ac-4930-afb2-2e54b088aeac",
      "metadata": {
        "id": "b373dc1e-d0ac-4930-afb2-2e54b088aeac",
        "outputId": "dfeda5e4-58cc-47ac-a95a-5ec68bf5cd1a"
      },
      "outputs": [
        {
          "data": {
            "text/plain": [
              "3"
            ]
          },
          "execution_count": 23,
          "metadata": {},
          "output_type": "execute_result"
        }
      ],
      "source": [
        "3%10"
      ]
    },
    {
      "cell_type": "code",
      "execution_count": null,
      "id": "453f1c32-b665-46fe-98c1-1a0067745a7b",
      "metadata": {
        "id": "453f1c32-b665-46fe-98c1-1a0067745a7b"
      },
      "outputs": [],
      "source": [
        "# ZADANIE 2"
      ]
    },
    {
      "cell_type": "code",
      "execution_count": null,
      "id": "aa304d1e-38f0-4620-b0b1-35e540564851",
      "metadata": {
        "id": "aa304d1e-38f0-4620-b0b1-35e540564851",
        "outputId": "39742a05-cfc4-44ad-ace5-2455af12ad7f"
      },
      "outputs": [
        {
          "data": {
            "text/plain": [
              "1024"
            ]
          },
          "execution_count": 25,
          "metadata": {},
          "output_type": "execute_result"
        }
      ],
      "source": [
        "2**10"
      ]
    },
    {
      "cell_type": "code",
      "execution_count": null,
      "id": "9bfa7c29-705f-4a35-b85e-7a48d5551a19",
      "metadata": {
        "id": "9bfa7c29-705f-4a35-b85e-7a48d5551a19",
        "outputId": "c3a8daba-58a0-4903-bb34-a4c86259db5c"
      },
      "outputs": [
        {
          "name": "stdout",
          "output_type": "stream",
          "text": [
            "3   3   3\n"
          ]
        }
      ],
      "source": [
        "a=b=c=3\n",
        "print(a,' ',b,' ',c)"
      ]
    },
    {
      "cell_type": "code",
      "execution_count": null,
      "id": "f7b67a8a-fc16-47c5-b00e-5f9b7e758991",
      "metadata": {
        "id": "f7b67a8a-fc16-47c5-b00e-5f9b7e758991",
        "outputId": "a24a0828-2b63-41f4-fe6f-56a1b3fe0d11"
      },
      "outputs": [
        {
          "data": {
            "text/plain": [
              "' Informatyka Informatyka Informatyka Informatyka Informatyka'"
            ]
          },
          "execution_count": 29,
          "metadata": {},
          "output_type": "execute_result"
        }
      ],
      "source": [
        "5*' Informatyka' #powinno być bez spacji"
      ]
    },
    {
      "cell_type": "code",
      "execution_count": null,
      "id": "d5c7dda5-e92e-45f4-a979-f3373e7edc33",
      "metadata": {
        "id": "d5c7dda5-e92e-45f4-a979-f3373e7edc33",
        "outputId": "d45c7557-a261-4f8e-c90d-65b4cdcf935d"
      },
      "outputs": [
        {
          "name": "stdout",
          "output_type": "stream",
          "text": [
            "rytm\n",
            "m\n"
          ]
        }
      ],
      "source": [
        "a='algorytm';print(a[4:]);print(a[-1]) # od 4 włącznie i ostatnia"
      ]
    },
    {
      "cell_type": "code",
      "execution_count": null,
      "id": "76ec252b-8940-4253-8b41-5af64d73443a",
      "metadata": {
        "id": "76ec252b-8940-4253-8b41-5af64d73443a",
        "outputId": "23b9ab8a-4d69-4f6f-a75f-fc69177fd302"
      },
      "outputs": [
        {
          "name": "stdout",
          "output_type": "stream",
          "text": [
            "0o17   0b1111   0xf   15\n"
          ]
        }
      ],
      "source": [
        "x=15;print(oct(x), ' ', bin(x),' ',hex(x),' ',int(x))"
      ]
    },
    {
      "cell_type": "code",
      "execution_count": null,
      "id": "18bfe3a0-5916-4f3c-b8ff-6320d25ab282",
      "metadata": {
        "id": "18bfe3a0-5916-4f3c-b8ff-6320d25ab282"
      },
      "outputs": [],
      "source": [
        "#ZADANIE 3"
      ]
    },
    {
      "cell_type": "code",
      "execution_count": null,
      "id": "feabd1b3-d892-42cb-8da0-f8e0e3cabcb4",
      "metadata": {
        "id": "feabd1b3-d892-42cb-8da0-f8e0e3cabcb4",
        "outputId": "0f53e6bf-9c21-44d7-baf2-63cb47d67622"
      },
      "outputs": [
        {
          "ename": "SyntaxError",
          "evalue": "unmatched ')' (134254594.py, line 1)",
          "output_type": "error",
          "traceback": [
            "\u001b[1;36m  Cell \u001b[1;32mIn[36], line 1\u001b[1;36m\u001b[0m\n\u001b[1;33m    pow(2, 10))\u001b[0m\n\u001b[1;37m              ^\u001b[0m\n\u001b[1;31mSyntaxError\u001b[0m\u001b[1;31m:\u001b[0m unmatched ')'\n"
          ]
        }
      ],
      "source": [
        "pow(2, 10))"
      ]
    },
    {
      "cell_type": "code",
      "execution_count": null,
      "id": "118dce24-b267-4891-accd-6551565f9e46",
      "metadata": {
        "id": "118dce24-b267-4891-accd-6551565f9e46",
        "outputId": "c964e56b-b46a-4edc-92d4-7c9e1b0d2520"
      },
      "outputs": [
        {
          "name": "stdout",
          "output_type": "stream",
          "text": [
            "11\n"
          ]
        }
      ],
      "source": [
        "print(len('informatyka'))"
      ]
    },
    {
      "cell_type": "code",
      "execution_count": null,
      "id": "4840363f-405b-4705-be69-059194d94901",
      "metadata": {
        "id": "4840363f-405b-4705-be69-059194d94901",
        "outputId": "ff5bae2a-938d-4536-d1ec-466e16eb75f1"
      },
      "outputs": [
        {
          "ename": "NameError",
          "evalue": "name 'gcd' is not defined",
          "output_type": "error",
          "traceback": [
            "\u001b[1;31m---------------------------------------------------------------------------\u001b[0m",
            "\u001b[1;31mNameError\u001b[0m                                 Traceback (most recent call last)",
            "Cell \u001b[1;32mIn[38], line 1\u001b[0m\n\u001b[1;32m----> 1\u001b[0m \u001b[38;5;28mprint\u001b[39m(gcd(\u001b[38;5;241m18\u001b[39m,\u001b[38;5;241m24\u001b[39m))\n",
            "\u001b[1;31mNameError\u001b[0m: name 'gcd' is not defined"
          ]
        }
      ],
      "source": [
        "print(gcd(18,24))"
      ]
    },
    {
      "cell_type": "code",
      "execution_count": null,
      "id": "2e9c7769-a448-445b-943c-eb91c582717a",
      "metadata": {
        "id": "2e9c7769-a448-445b-943c-eb91c582717a",
        "outputId": "ad27c316-f721-437e-998a-aae0be228126"
      },
      "outputs": [
        {
          "name": "stdout",
          "output_type": "stream",
          "text": [
            "4.795831523312719\n"
          ]
        }
      ],
      "source": [
        "from math import sqrt\n",
        "print(sqrt(23))"
      ]
    },
    {
      "cell_type": "code",
      "execution_count": null,
      "id": "e8466770-efb8-430e-9ddb-969894c5ae75",
      "metadata": {
        "id": "e8466770-efb8-430e-9ddb-969894c5ae75",
        "outputId": "092460e2-d663-4c17-f944-9e108b88f472"
      },
      "outputs": [
        {
          "name": "stdout",
          "output_type": "stream",
          "text": [
            "4\n"
          ]
        }
      ],
      "source": [
        "from math import *\n",
        "print(floor(sqrt(23)))"
      ]
    },
    {
      "cell_type": "code",
      "execution_count": null,
      "id": "f95b844c-08b7-438b-969b-9ceb219bc453",
      "metadata": {
        "id": "f95b844c-08b7-438b-969b-9ceb219bc453",
        "outputId": "367c7fdd-e72f-4dff-f5f8-64930a69fbb1"
      },
      "outputs": [
        {
          "name": "stdout",
          "output_type": "stream",
          "text": [
            "26\n"
          ]
        }
      ],
      "source": [
        "from random import randint\n",
        "print(randint(20,30))"
      ]
    },
    {
      "cell_type": "code",
      "execution_count": null,
      "id": "7699eb90-f751-4556-95c1-2c42fbbce01a",
      "metadata": {
        "id": "7699eb90-f751-4556-95c1-2c42fbbce01a",
        "outputId": "08fe04f9-81fe-46a1-d880-9ec31b5d9d87"
      },
      "outputs": [
        {
          "name": "stdin",
          "output_type": "stream",
          "text": [
            "Podaj imie:  tomasz\n"
          ]
        },
        {
          "name": "stdout",
          "output_type": "stream",
          "text": [
            "Szanowny Panie tomasz\n"
          ]
        }
      ],
      "source": [
        "#ZADANIE 4\n",
        "napis = input('Podaj imie: ')\n",
        "if napis.strip()[-1] == 'a':\n",
        "    print(f\"Szanowna Pani {napis.strip()}\") #pobaw się w domu\n",
        "else:\n",
        "   print(f\"Szanowny Panie {napis.strip()}\")"
      ]
    },
    {
      "cell_type": "markdown",
      "source": [
        "to gówniane strip tylko przy napsiach!!!!!!"
      ],
      "metadata": {
        "id": "S8UTVpl4TnHC"
      },
      "id": "S8UTVpl4TnHC"
    }
  ],
  "metadata": {
    "kernelspec": {
      "display_name": "Python 3 (ipykernel)",
      "language": "python",
      "name": "python3"
    },
    "language_info": {
      "codemirror_mode": {
        "name": "ipython",
        "version": 3
      },
      "file_extension": ".py",
      "mimetype": "text/x-python",
      "name": "python",
      "nbconvert_exporter": "python",
      "pygments_lexer": "ipython3",
      "version": "3.13.5"
    },
    "colab": {
      "provenance": [],
      "include_colab_link": true
    }
  },
  "nbformat": 4,
  "nbformat_minor": 5
}
