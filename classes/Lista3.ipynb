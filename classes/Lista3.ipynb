{
  "nbformat": 4,
  "nbformat_minor": 0,
  "metadata": {
    "colab": {
      "provenance": [],
      "authorship_tag": "ABX9TyNTBMbf5emnRz/cAa2woLUv",
      "include_colab_link": true
    },
    "kernelspec": {
      "name": "python3",
      "display_name": "Python 3"
    },
    "language_info": {
      "name": "python"
    }
  },
  "cells": [
    {
      "cell_type": "markdown",
      "metadata": {
        "id": "view-in-github",
        "colab_type": "text"
      },
      "source": [
        "<a href=\"https://colab.research.google.com/github/kingajutrzenka/Programowanie-i-algorytmika/blob/main/Lista3.ipynb\" target=\"_parent\"><img src=\"https://colab.research.google.com/assets/colab-badge.svg\" alt=\"Open In Colab\"/></a>"
      ]
    },
    {
      "cell_type": "markdown",
      "source": [
        "# **Lista 3 - powtórka**"
      ],
      "metadata": {
        "id": "sWWnqFlpekgd"
      }
    },
    {
      "cell_type": "code",
      "source": [
        "from random import randint"
      ],
      "metadata": {
        "id": "u3qMvHQWgzEY"
      },
      "execution_count": 21,
      "outputs": []
    },
    {
      "cell_type": "code",
      "source": [
        "n = int(input(\"Podaj ilość liczb jakie mają być wyosowane: \"))\n",
        "lg = [randint(-100, 100) for _ in range(n)]\n",
        "lg\n"
      ],
      "metadata": {
        "colab": {
          "base_uri": "https://localhost:8080/"
        },
        "id": "_7SVDnUve4Fx",
        "outputId": "42be3d79-f30c-4f4e-c07c-9f0034165ca1"
      },
      "execution_count": 37,
      "outputs": [
        {
          "name": "stdout",
          "output_type": "stream",
          "text": [
            "Podaj ilość liczb jakie mają być wyosowane: 100\n"
          ]
        },
        {
          "output_type": "execute_result",
          "data": {
            "text/plain": [
              "[-50,\n",
              " -93,\n",
              " 2,\n",
              " -87,\n",
              " 83,\n",
              " -59,\n",
              " -41,\n",
              " 9,\n",
              " 55,\n",
              " -99,\n",
              " 36,\n",
              " -47,\n",
              " 53,\n",
              " 83,\n",
              " -58,\n",
              " -41,\n",
              " 94,\n",
              " 38,\n",
              " 35,\n",
              " 19,\n",
              " 14,\n",
              " -25,\n",
              " 51,\n",
              " -96,\n",
              " -53,\n",
              " 38,\n",
              " -31,\n",
              " 47,\n",
              " -9,\n",
              " 93,\n",
              " -49,\n",
              " 35,\n",
              " -38,\n",
              " 48,\n",
              " 69,\n",
              " -41,\n",
              " 14,\n",
              " 41,\n",
              " -73,\n",
              " -13,\n",
              " -72,\n",
              " 61,\n",
              " 4,\n",
              " 1,\n",
              " 24,\n",
              " -6,\n",
              " 59,\n",
              " -24,\n",
              " 37,\n",
              " 72,\n",
              " 48,\n",
              " -68,\n",
              " -74,\n",
              " 0,\n",
              " 83,\n",
              " -89,\n",
              " 74,\n",
              " -31,\n",
              " 8,\n",
              " -27,\n",
              " 5,\n",
              " -89,\n",
              " 69,\n",
              " 42,\n",
              " 47,\n",
              " 69,\n",
              " 2,\n",
              " -97,\n",
              " 42,\n",
              " 61,\n",
              " -34,\n",
              " 66,\n",
              " 11,\n",
              " 35,\n",
              " 1,\n",
              " 42,\n",
              " 48,\n",
              " -40,\n",
              " 16,\n",
              " 95,\n",
              " -9,\n",
              " -46,\n",
              " 87,\n",
              " -31,\n",
              " 0,\n",
              " 99,\n",
              " 11,\n",
              " -13,\n",
              " 92,\n",
              " -30,\n",
              " 100,\n",
              " 96,\n",
              " -89,\n",
              " 72,\n",
              " 81,\n",
              " -29,\n",
              " -86,\n",
              " -39,\n",
              " 4,\n",
              " -62]"
            ]
          },
          "metadata": {},
          "execution_count": 37
        }
      ]
    },
    {
      "cell_type": "markdown",
      "source": [
        "## **Zadanie 1**"
      ],
      "metadata": {
        "id": "ZurjhFzHexJo"
      }
    },
    {
      "cell_type": "code",
      "execution_count": 23,
      "metadata": {
        "colab": {
          "base_uri": "https://localhost:8080/"
        },
        "id": "i6KR_D19ejnv",
        "outputId": "538f0e30-877d-43c5-8506-b02deb87d4c4"
      },
      "outputs": [
        {
          "output_type": "stream",
          "name": "stdout",
          "text": [
            "46\n",
            "-74\n",
            "-84\n",
            "78\n",
            "18\n",
            "-28\n",
            "-64\n"
          ]
        }
      ],
      "source": [
        "for liczba in lg:\n",
        "  if (liczba % 2) == 0:\n",
        "    print(liczba)\n",
        "  else:\n",
        "    pass"
      ]
    },
    {
      "cell_type": "markdown",
      "source": [
        "## **Zadanie 2**"
      ],
      "metadata": {
        "id": "yzRR5x_RwIrR"
      }
    },
    {
      "cell_type": "code",
      "source": [
        "lg[1::2]"
      ],
      "metadata": {
        "colab": {
          "base_uri": "https://localhost:8080/"
        },
        "id": "t4FtNljJv6vq",
        "outputId": "845d1763-0e73-4706-9082-c11211fd2fa6"
      },
      "execution_count": 24,
      "outputs": [
        {
          "output_type": "execute_result",
          "data": {
            "text/plain": [
              "[-74, 78, -28, -53, 31]"
            ]
          },
          "metadata": {},
          "execution_count": 24
        }
      ]
    },
    {
      "cell_type": "markdown",
      "source": [
        "## **Zadanie 3**"
      ],
      "metadata": {
        "id": "qxITyQ4wyc8k"
      }
    },
    {
      "cell_type": "code",
      "source": [
        "lg[::-1]"
      ],
      "metadata": {
        "colab": {
          "base_uri": "https://localhost:8080/"
        },
        "id": "bTTpmn9Oyg0H",
        "outputId": "2b598586-f2c8-4133-f2ec-70fe7fdb90ce"
      },
      "execution_count": 25,
      "outputs": [
        {
          "output_type": "execute_result",
          "data": {
            "text/plain": [
              "[31, -64, -53, -97, -28, 18, 78, -84, -74, 46]"
            ]
          },
          "metadata": {},
          "execution_count": 25
        }
      ]
    },
    {
      "cell_type": "markdown",
      "source": [
        "## Zadanie 4"
      ],
      "metadata": {
        "id": "49stwvSry5hR"
      }
    },
    {
      "cell_type": "code",
      "source": [
        "lgp = [liczba for liczba in lg\n",
        "    if (-99<=liczba>=-10) or (10>=liczba<=99)]\n",
        "lgp"
      ],
      "metadata": {
        "colab": {
          "base_uri": "https://localhost:8080/"
        },
        "id": "4MhfLUeXy_mt",
        "outputId": "b144839a-c86c-4a8f-e4d1-60119fa9a4bc"
      },
      "execution_count": 26,
      "outputs": [
        {
          "output_type": "execute_result",
          "data": {
            "text/plain": [
              "[46, -74, -84, 78, 18, -28, -97, -53, -64, 31]"
            ]
          },
          "metadata": {},
          "execution_count": 26
        }
      ]
    },
    {
      "cell_type": "markdown",
      "source": [
        "## **Zadanie 5**"
      ],
      "metadata": {
        "id": "S8g-e0eR1ayD"
      }
    },
    {
      "cell_type": "code",
      "source": [
        "lgpi = [liczba for liczba in lg\n",
        "    if (-100<liczba<-10) or (9<liczba<100)]\n",
        "lgpi"
      ],
      "metadata": {
        "colab": {
          "base_uri": "https://localhost:8080/"
        },
        "id": "qREYsyGn182_",
        "outputId": "f47c8e0c-e04d-4681-95df-37e56bc8cfde"
      },
      "execution_count": 28,
      "outputs": [
        {
          "output_type": "execute_result",
          "data": {
            "text/plain": [
              "[46, -74, -84, 78, 18, -28, -97, -53, -64, 31]"
            ]
          },
          "metadata": {},
          "execution_count": 28
        }
      ]
    },
    {
      "cell_type": "markdown",
      "source": [
        "## **Zadanie 6**\n",
        "\n",
        "\n",
        "---\n",
        "Przypomnij sobie, bo chuja potrafisz XD\n"
      ],
      "metadata": {
        "id": "6XxfN4oR1rRu"
      }
    },
    {
      "cell_type": "code",
      "source": [
        "n = int(input(\"Podaj liczbę do zadania 6: \"))"
      ],
      "metadata": {
        "colab": {
          "base_uri": "https://localhost:8080/"
        },
        "id": "ns-zQfIP1o02",
        "outputId": "b3ebe455-2b1d-4371-aa78-9d4c6d5d6ee9"
      },
      "execution_count": 29,
      "outputs": [
        {
          "name": "stdout",
          "output_type": "stream",
          "text": [
            "Podaj liczbę do zadania 6: 5\n"
          ]
        }
      ]
    },
    {
      "cell_type": "code",
      "source": [
        "def fun6(n):\n",
        "  i=0\n",
        "  while i*i<n:\n",
        "    i+=1\n",
        "  return (i ** 2) == n\n",
        "fun6(n)"
      ],
      "metadata": {
        "colab": {
          "base_uri": "https://localhost:8080/"
        },
        "id": "0m2X9a793FNf",
        "outputId": "d3cba694-ef44-4710-97b8-88c71bbff6be"
      },
      "execution_count": 30,
      "outputs": [
        {
          "output_type": "execute_result",
          "data": {
            "text/plain": [
              "False"
            ]
          },
          "metadata": {},
          "execution_count": 30
        }
      ]
    },
    {
      "cell_type": "code",
      "source": [
        "lista_testowa = [0, 10, 4, 81, 12, 16, 89, 9023, 2344, 256, 400]"
      ],
      "metadata": {
        "id": "HnGiXMkJ7QYr"
      },
      "execution_count": 32,
      "outputs": []
    },
    {
      "cell_type": "code",
      "source": [
        "listaZ6 = [lista for lista in lista_testowa\n",
        "           if fun6(lista) == True]\n",
        "listaZ6"
      ],
      "metadata": {
        "colab": {
          "base_uri": "https://localhost:8080/"
        },
        "id": "4R8r_6U-6ovP",
        "outputId": "beec3235-bd62-4074-fb36-75c3b57233ad"
      },
      "execution_count": 33,
      "outputs": [
        {
          "output_type": "execute_result",
          "data": {
            "text/plain": [
              "[0, 4, 81, 16, 256, 400]"
            ]
          },
          "metadata": {},
          "execution_count": 33
        }
      ]
    },
    {
      "cell_type": "markdown",
      "source": [
        "## **Zadanie 7**\n",
        "\n",
        "\n",
        "---\n",
        "nie umiem XD\n"
      ],
      "metadata": {
        "id": "L4Ii3l398BW2"
      }
    },
    {
      "cell_type": "code",
      "source": [
        "lista_t = [1, 2, 3, 4, 5, 6, 6, 4, 3, 2, 1]"
      ],
      "metadata": {
        "id": "72-xcsqX8GCz"
      },
      "execution_count": 34,
      "outputs": []
    },
    {
      "cell_type": "code",
      "source": [
        "for liczby in lista_t:\n",
        "  if lista_t[liczba + 1] >= liczba:\n"
      ],
      "metadata": {
        "id": "L7nuCuNR8dvC"
      },
      "execution_count": null,
      "outputs": []
    },
    {
      "cell_type": "markdown",
      "source": [
        "## **Zadanie 8**"
      ],
      "metadata": {
        "id": "sZfXABmEDmBx"
      }
    },
    {
      "cell_type": "code",
      "source": [
        "a = int(input(\"Podaj pierwszą liczbę: \"))\n",
        "b = int(input(\"Podaj drugą liczbę która jest większa lub równa pierwszej: \"))\n",
        "if b>=a:\n",
        "  minionek = [liczba for liczba in lg\n",
        "              if a<=liczba<=b]\n",
        "minionek"
      ],
      "metadata": {
        "colab": {
          "base_uri": "https://localhost:8080/"
        },
        "id": "YZcpoRdvDs25",
        "outputId": "4342e3ee-82ab-46a3-8b19-12f103ad58bb"
      },
      "execution_count": 39,
      "outputs": [
        {
          "name": "stdout",
          "output_type": "stream",
          "text": [
            "Podaj pierwszą liczbę: 5\n",
            "Podaj drugą liczbę która jest większa lub równa pierwszej: 6\n"
          ]
        },
        {
          "output_type": "execute_result",
          "data": {
            "text/plain": [
              "[5]"
            ]
          },
          "metadata": {},
          "execution_count": 39
        }
      ]
    },
    {
      "cell_type": "code",
      "source": [
        "# wersja 2\n",
        "a = int(input(\"Podaj pierwszą liczbę: \"))\n",
        "b = int(input(\"Podaj drugą liczbę która jest większa lub równa pierwszej: \"))\n",
        "for liczba in lg:\n",
        "  if a<=liczba<=b:\n",
        "    print(liczba)"
      ],
      "metadata": {
        "colab": {
          "base_uri": "https://localhost:8080/"
        },
        "id": "M9mkRM1KGMAw",
        "outputId": "a2c5ef94-8f3d-491f-e161-7918953b890e"
      },
      "execution_count": 43,
      "outputs": [
        {
          "output_type": "stream",
          "name": "stdout",
          "text": [
            "Podaj pierwszą liczbę: 5\n",
            "Podaj drugą liczbę która jest większa lub równa pierwszej: 10\n",
            "9\n",
            "8\n",
            "5\n"
          ]
        }
      ]
    },
    {
      "cell_type": "markdown",
      "source": [
        "##  **Podsumowanie**"
      ],
      "metadata": {
        "id": "XSncR6Gz3R_j"
      }
    },
    {
      "cell_type": "markdown",
      "source": [
        "**Do zapamiętania:**\n",
        "\n",
        "- by stworzyć listę z losowymi n liczbami nałkowitymi z przedziału (x,y) używamy wzoru:\n",
        "\n",
        "**lista = [randint(-100, 100) for _ in range(n)]**\n",
        "- by wyświetlić co x element  z listy od danego elementu y:\n",
        "\n",
        "**lista[y::x]**\n",
        "- by ładniej stworzyć liste gdzie używamy for używamy schematu:\n",
        "\n",
        "*nowa_lista = (**liczba** for **liczba** in lista)*\n"
      ],
      "metadata": {
        "id": "snXKl5fzx36I"
      }
    }
  ]
}
